{
 "cells": [
  {
   "cell_type": "code",
   "execution_count": 228,
   "metadata": {},
   "outputs": [],
   "source": [
    "import os\n",
    "from dotenv import load_dotenv\n",
    "load_dotenv()\n",
    "import openai\n",
    "import json\n",
    "import ast\n",
    "import time\n",
    "from tqdm import tqdm"
   ]
  },
  {
   "cell_type": "code",
   "execution_count": 225,
   "metadata": {},
   "outputs": [],
   "source": [
    "# Set openai.api_key to the OPENAI environment variable\n",
    "openai.api_key = os.environ[\"api_key\"]"
   ]
  },
  {
   "cell_type": "markdown",
   "metadata": {},
   "source": [
    "# Extract Education Background from Biography\n",
    "\n",
    "- system_msg and prompt to instruct LLM to return information in dictionary format"
   ]
  },
  {
   "cell_type": "code",
   "execution_count": 226,
   "metadata": {},
   "outputs": [],
   "source": [
    "def extract_education_background(text):\n",
    "    system_msg = \"I am an AI assistant designed to help you extract educational background information from a given text. \\\n",
    "    I understand that the text contains a biography and I am capable of identifying and extracting details about the person's education, \\\n",
    "    including their Bachelor's, Master's, and PhD degrees. I also understand that after extracting the following educational information from the text\\\n",
    "    I have to dispaly it in the following format: {'Bachelor Degree': 'Institution', 'Master Degree': 'Institution', 'PhD': 'Institution'}. \\\n",
    "    If there is no information about a particular degree in the text, please return None for the corresponding key.\"\n",
    "\n",
    "    prompt = f\"\"\"\n",
    "    Based on the biography below, tell me where did this person got his Bachelor's Degree, Master's Degree and PhD from. Return the results strictly in a dictionary format as such, {{\"Bachelor Degree\": \"Institution\", \"Master Degree\": \"Institution\", \"PhD\": \"Institution\"}}. If there is no information or if information is ambiguous about a particular degree in the text, please return \"None\" for the corresponding key. Also please make sure key and value is between double quote \"string\".\n",
    "\n",
    "    Biography:\n",
    "\n",
    "    {text}\n",
    "    \"\"\"\n",
    "    response = openai.ChatCompletion.create(\n",
    "            model=\"gpt-3.5-turbo\",\n",
    "            messages=[{\"role\": \"system\", \"content\": system_msg },\n",
    "                    {\"role\": \"user\", \"content\": prompt}\n",
    "            ],\n",
    "            temperature=0)\n",
    "    return response['choices'][0]['message']['content']"
   ]
  },
  {
   "cell_type": "code",
   "execution_count": 222,
   "metadata": {},
   "outputs": [],
   "source": [
    "text =  \"Jie Zhang is a Professor of the School of Computer Science and Engineering at NTU Singapore, leading the Computational Intelligence Group. He obtained Ph.D. in Cheriton School of Computer Science from University of Waterloo and was the recipient of Alumni Gold Medal in 2009. Then he joined NTU as an Assistant Professor and was promoted to Associate Professor in 2015. From 2017-2018, he was appointed as Tan Chin Tuan Exchange Fellowship, New York University. He was also an Adjunct Fellow, Singapore Institute of Manufacturing Technology (SIMTech), A*STAR, from 2020-2021. His papers have been published by top journals and conferences and won several best paper awards. Jie Zhang is also active in serving research communities.\"\n",
    "\n",
    "response = extract_education_background(text=text)\n"
   ]
  },
  {
   "cell_type": "code",
   "execution_count": 223,
   "metadata": {},
   "outputs": [
    {
     "name": "stdout",
     "output_type": "stream",
     "text": [
      "{\"Bachelor Degree\": \"None\", \"Master Degree\": \"None\", \"PhD\": \"University of Waterloo\"}\n"
     ]
    }
   ],
   "source": [
    "print(response)"
   ]
  },
  {
   "cell_type": "code",
   "execution_count": null,
   "metadata": {},
   "outputs": [],
   "source": [
    "raw_dir = './prof_raw_data/'\n",
    "prefix = 'education'\n",
    "gpt_dir = './gpt_data/'\n",
    "\n",
    "dr_ntu_files = [os.path.join(raw_dir, f) for f in os.listdir(raw_dir) if os.path.isfile(os.path.join(raw_dir, f)) and 'dr_ntu' in f]\n",
    "\n",
    "for file in tqdm(dr_ntu_files[82:],position=0,leave=True):\n",
    "    with open(file,'r') as f:\n",
    "        prof_dict = json.load(f)\n",
    "    biography = prof_dict['biography']\n",
    "    name = prof_dict['full_name'].lower().replace(' ','_')\n",
    "    education_detail_str = extract_education_background(biography)\n",
    "    education_detail_dict = ast.literal_eval(education_detail_str.strip())\n",
    "    for key,value in education_detail_dict.items():\n",
    "        if value ==\"None\":\n",
    "            education_detail_dict[key] = None\n",
    "    with open(f\"{gpt_dir}{prefix}_{name}.json\",'w') as f:\n",
    "        json.dump(education_detail_dict,f)\n",
    "    # only limited to 3 calls per minute\n",
    "    time.sleep(25)\n"
   ]
  }
 ],
 "metadata": {
  "kernelspec": {
   "display_name": "CZ4125",
   "language": "python",
   "name": "python3"
  },
  "language_info": {
   "codemirror_mode": {
    "name": "ipython",
    "version": 3
   },
   "file_extension": ".py",
   "mimetype": "text/x-python",
   "name": "python",
   "nbconvert_exporter": "python",
   "pygments_lexer": "ipython3",
   "version": "3.9.17"
  }
 },
 "nbformat": 4,
 "nbformat_minor": 2
}
