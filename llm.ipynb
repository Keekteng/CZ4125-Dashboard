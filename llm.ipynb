{
 "cells": [
  {
   "cell_type": "code",
   "execution_count": 44,
   "metadata": {},
   "outputs": [],
   "source": [
    "import os\n",
    "from dotenv import load_dotenv\n",
    "load_dotenv()\n",
    "import openai\n",
    "import json\n",
    "import ast\n",
    "import time"
   ]
  },
  {
   "cell_type": "code",
   "execution_count": 3,
   "metadata": {},
   "outputs": [],
   "source": [
    "# Set openai.api_key to the OPENAI environment variable\n",
    "openai.api_key = os.environ[\"api_key\"]"
   ]
  },
  {
   "cell_type": "markdown",
   "metadata": {},
   "source": [
    "# Extract Education Background from Biography\n",
    "\n",
    "- system_msg and prompt to instruct LLM to return information in dictionary format"
   ]
  },
  {
   "cell_type": "code",
   "execution_count": 50,
   "metadata": {},
   "outputs": [],
   "source": [
    "def extract_education_background(text):\n",
    "    system_msg = \"I am an AI assistant designed to help you extract educational background information from a given text. \\\n",
    "    I understand that the text contains a biography and I am capable of identifying and extracting details about the person's education, \\\n",
    "    including their Bachelor's, Master's, and PhD degrees. I also understand that after extracting the following educational information from the text\\\n",
    "    I have to dispaly it in the following format: {'Bachelor Degree': 'Institution', 'Master Degree': 'Institution', 'PhD': 'Institution'}. \\\n",
    "    If there is no information about a particular degree in the text, please return None for the corresponding key.\"\n",
    "\n",
    "#     text = \"Dr. Alexei Sourin was born in Moscow and received his M.Eng. and Ph.D. degrees in computer graphics from the Moscow Engineering Physics Institute, Russia (MEPhI) in \\\n",
    "#     1983 and 1988, respectively. From 1983 to 1993 he was a researcher at MEPhI where he worked on different scientific visualization and computer animation projects. Since 1993 he \\\n",
    "#     held faculty positions at Nanyang Technological University (NTU) in Singapore, except a period from 1999 to 2000 when he was Associate Professor at Moscow Institute of Physics and\\\n",
    "#     Technology (MIPT). Currently he is a tenured Associate Professor with the School of Computer Science and Engineering at NTU. His research interests are in shape modeling,\\\n",
    "#     multi-modal interaction, music visualization, and automated visual inspection in manufacturing. Dr. Sourin published over 230 referred research papers and was invited to\\\n",
    "#     give talks to many scientific events. Dr. Sourin is also one of the pioneers of electronic education in Singapore. From 2012 to 2018, he was a Chair of the IFIP WG5.10\\\n",
    "#     Computer Graphics and Virtual Worlds. Dr. Sourin is a Senior Member of IEEE and a member of ACM SIGGRAPH. He is an associate editor of several international journals\\\n",
    "#     including The Visual Computer (Springer) and Transactions on Computational Science (Springer). He was on the program committees of over 120 international conferences.\\\n",
    "#     He is a coordinator of the International Conferences on Cyberworlds for which he was also General and Program Chair in many years.\"\n",
    "\n",
    "    prompt = f\"\"\"\n",
    "    Based on the biography below, tell me where did this person got his Bachelor's Degree, Master's Degree and PhD from. Return the results strictly in a dictionary format as such, {{\"Bachelor Degree\": \"Institution\", \"Master Degree\": \"Institution\", \"PhD\": \"Institution\"}}. If there is no information or if information is ambiguous about a particular degree in the text, please return \"None\" for the corresponding key. Also please make sure key and value is between double quote \"string\".\n",
    "\n",
    "    Biography:\n",
    "\n",
    "    {text}\n",
    "    \"\"\"\n",
    "    response = openai.ChatCompletion.create(\n",
    "            model=\"gpt-3.5-turbo\",\n",
    "            messages=[{\"role\": \"system\", \"content\": system_msg },\n",
    "                    {\"role\": \"user\", \"content\": prompt}\n",
    "            ])\n",
    "    return response['choices'][0]['message']['content']"
   ]
  },
  {
   "cell_type": "code",
   "execution_count": 31,
   "metadata": {},
   "outputs": [],
   "source": [
    "text =  \"Jie Zhang is a Professor of the School of Computer Science and Engineering at NTU Singapore, leading the Computational Intelligence Group. He obtained Ph.D. in Cheriton School of Computer Science from University of Waterloo and was the recipient of Alumni Gold Medal in 2009. Then he joined NTU as an Assistant Professor and was promoted to Associate Professor in 2015. From 2017-2018, he was appointed as Tan Chin Tuan Exchange Fellowship, New York University. He was also an Adjunct Fellow, Singapore Institute of Manufacturing Technology (SIMTech), A*STAR, from 2020-2021. His papers have been published by top journals and conferences and won several best paper awards. Jie Zhang is also active in serving research communities.\"\n",
    "\n",
    "response = extract_education_background(text=text)\n"
   ]
  },
  {
   "cell_type": "code",
   "execution_count": null,
   "metadata": {},
   "outputs": [],
   "source": [
    "print(response)"
   ]
  },
  {
   "cell_type": "code",
   "execution_count": 51,
   "metadata": {},
   "outputs": [],
   "source": [
    "raw_dir = './prof_raw_data/'\n",
    "prefix = 'education'\n",
    "gpt_dir = './gpt_data/'\n",
    "\n",
    "dr_ntu_files = [os.path.join(raw_dir, f) for f in os.listdir(raw_dir) if os.path.isfile(os.path.join(raw_dir, f)) and 'dr_ntu' in f]\n",
    "\n",
    "for file in dr_ntu_files[60:]:\n",
    "    with open(file,'r') as f:\n",
    "        prof_dict = json.load(f)\n",
    "    biography = prof_dict['biography']\n",
    "    name = prof_dict['full_name'].lower().replace(' ','_')\n",
    "    education_detail_str = extract_education_background(biography)\n",
    "    education_detail_dict = ast.literal_eval(education_detail_str.strip())\n",
    "    for key,value in education_detail_dict.items():\n",
    "        if value ==\"None\":\n",
    "            education_detail_dict[key] = None\n",
    "    with open(f\"{gpt_dir}{prefix}_{name}.json\",'w') as f:\n",
    "        json.dump(education_detail_dict,f)\n",
    "    # only limited to 3 calls per minute\n",
    "    time.sleep(25)\n"
   ]
  },
  {
   "cell_type": "markdown",
   "metadata": {},
   "source": [
    "# Classify Type of Affiliation\n",
    "\n",
    "- Two Classes\n",
    "    - Academic Collaborators\n",
    "    - External Collaborators"
   ]
  },
  {
   "cell_type": "markdown",
   "metadata": {},
   "source": [
    "add an extra key value pair \"is_school\":\"True\" to that dictionary. If the value of the key \"aff\" is not an academic institution, \n",
    "    add an extra key value pair \"is_school\":\"False\" to the dictionary instead. Please only display the updated list of dictionary and nothing else.\n",
    "\n",
    "    For example, if the information provided is as follows, [{{'name': 'Dacheng Tao','url': 'https://scholar.google.com/citations?hl=en&user=RwlJNLcAAAAJ','aff': 'The University of Sydney'}},{{'name': 'Yong Luo','url': 'https://scholar.google.com/citations?hl=en&user=zb1oVGIAAAAJ','aff': 'Wuhan University'}}], you should return me\n",
    "    [{{'name': 'Dacheng Tao','url': 'https://scholar.google.com/citations?hl=en&user=RwlJNLcAAAAJ','aff': 'The University of Sydney','is_school':'True'}},{{'name': 'Yong Luo','url': 'https://scholar.google.com/citations?hl=en&user=zb1oVGIAAAAJ','aff': 'Wuhan University','is_school':'True'}}] as Wuhan University and The University of Sydney are both academic institution.\n"
   ]
  },
  {
   "cell_type": "code",
   "execution_count": 206,
   "metadata": {},
   "outputs": [],
   "source": [
    "def classify_collaborators_affiliation(info):\n",
    "    system_msg = \"I am an AI assistant designed to help you identify whether a specified named entity is affiliated to educational institutions or not.\"\n",
    "\n",
    "\n",
    "\n",
    "    prompt = f\"\"\"\n",
    "    The Collaborator Information is a list of dictionary. First initialise a new empty list and for each dictionary in the collaboration information, if the corresponding value of the key \"aff\" is an academic institution, append \"True\" to newly initialised list, otherwise append \"False\". If the corresponding value of 'aff' key is and empty string, append \"False\". The length of the newly initialised list should match the number of dictionary in the collaboration information. Please only display the list of labels as the output.\n",
    "\n",
    "    Collaborator Information:\n",
    "\n",
    "    {info}\n",
    "    \"\"\"\n",
    "    print(info)\n",
    "    response = openai.ChatCompletion.create(\n",
    "            model=\"gpt-3.5-turbo\",\n",
    "            messages=[{\"role\": \"system\", \"content\": system_msg },\n",
    "                    {\"role\": \"user\", \"content\": prompt}\n",
    "            ],\n",
    "            temperature=0.0)\n",
    "    return response['choices'][0]['message']['content']"
   ]
  },
  {
   "cell_type": "code",
   "execution_count": 193,
   "metadata": {},
   "outputs": [],
   "source": [
    "goog_sch_files = [os.path.join(raw_dir, f) for f in os.listdir(raw_dir) if os.path.isfile(os.path.join(raw_dir, f)) and 'goog_sch' in f]\n"
   ]
  },
  {
   "cell_type": "code",
   "execution_count": 194,
   "metadata": {},
   "outputs": [],
   "source": [
    "with open(goog_sch_files[0],'r')as f:\n",
    "    author = json.load(f)"
   ]
  },
  {
   "cell_type": "code",
   "execution_count": 58,
   "metadata": {},
   "outputs": [],
   "source": [
    "for file in goog_sch_files:\n",
    "    with open(file,'r')as f:\n",
    "        author_dict = json.load(f)\n",
    "    updated_list = []\n",
    "    # pass in in chunks of 10\n",
    "    co_authors = author_dict['co_authors_url']\n",
    "    if len(co_authors)<=10:\n",
    "        response = classify_collaborators_affiliation(co_authors)\n",
    "        ast.literal_eval(response.removeprefix('Updated Collaborator Information:\\n\\n').replace('\\n',''))\n",
    "        updated_list.extend()\n",
    "\n",
    "    \n",
    "    "
   ]
  },
  {
   "cell_type": "code",
   "execution_count": 195,
   "metadata": {},
   "outputs": [
    {
     "data": {
      "text/plain": [
       "59"
      ]
     },
     "execution_count": 195,
     "metadata": {},
     "output_type": "execute_result"
    }
   ],
   "source": [
    "len(author['co_authors_url'])"
   ]
  },
  {
   "cell_type": "code",
   "execution_count": 215,
   "metadata": {},
   "outputs": [
    {
     "data": {
      "text/plain": [
       "{'name': 'Ping Wang',\n",
       " 'url': 'https://scholar.google.com/citations?hl=en&user=3sIHxrcAAAAJ',\n",
       " 'aff': 'York University, IEEE Fellow, York Research Chair, IEEE VTS Distinguished Lecturer'}"
      ]
     },
     "execution_count": 215,
     "metadata": {},
     "output_type": "execute_result"
    }
   ],
   "source": [
    "author['co_authors_url'][23]"
   ]
  },
  {
   "cell_type": "code",
   "execution_count": 207,
   "metadata": {},
   "outputs": [
    {
     "name": "stdout",
     "output_type": "stream",
     "text": [
      "[{'name': 'Dacheng Tao', 'url': 'https://scholar.google.com/citations?hl=en&user=RwlJNLcAAAAJ', 'aff': 'The University of Sydney'}, {'name': 'Yong Luo', 'url': 'https://scholar.google.com/citations?hl=en&user=zb1oVGIAAAAJ', 'aff': 'Wuhan University'}, {'name': 'Haiyong Xie', 'url': 'https://scholar.google.com/citations?hl=en&user=irReiV0AAAAJ', 'aff': 'University of Science and Technology of China'}, {'name': 'Kyle Guan', 'url': 'https://scholar.google.com/citations?hl=en&user=3Vf3mqsAAAAJ', 'aff': ''}, {'name': 'Tat-Seng Chua', 'url': 'https://scholar.google.com/citations?hl=en&user=Z9DWCBEAAAAJ', 'aff': 'National University of Singapore'}, {'name': 'Dusit (Tao) Niyato', 'url': 'https://scholar.google.com/citations?hl=en&user=T8sVhLMAAAAJ', 'aff': 'Nanyang Technological University (NTU)'}, {'name': 'Dapeng Oliver Wu', 'url': 'https://scholar.google.com/citations?hl=en&user=sDRLr8gAAAAJ', 'aff': 'City University of Hong Kong'}, {'name': 'Chuan Heng Foh', 'url': 'https://scholar.google.com/citations?hl=en&user=1KaV3p0AAAAJ', 'aff': 'University of Surrey'}, {'name': 'ZHANG Wei (張韡)', 'url': 'https://scholar.google.com/citations?hl=en&user=hg7pib0AAAAJ', 'aff': 'Assistant Professor, Singapore Institute of Technology (SIT)'}, {'name': 'Di Wu', 'url': 'https://scholar.google.com/citations?hl=en&user=guhA4VoAAAAJ', 'aff': 'Professor of Computer Science, Sun Yat-Sen University'}, {'name': 'Zongqing Lu', 'url': 'https://scholar.google.com/citations?hl=en&user=k3IFtTYAAAAJ', 'aff': 'BOYA Assistant Professor, School of Computer Science, Peking University'}, {'name': 'Vincent Chan', 'url': 'https://scholar.google.com/citations?hl=en&user=rYZ5Br0AAAAJ', 'aff': 'MIT'}, {'name': 'Weiming Zhuang', 'url': 'https://scholar.google.com/citations?hl=en&user=lLuLAzEAAAAJ', 'aff': 'Sony AI, Nanyang Technological University'}, {'name': 'Jianfei Cai', 'url': 'https://scholar.google.com/citations?hl=en&user=N6czCoUAAAAJ', 'aff': 'Professor of Data Science & AI, Monash University'}, {'name': 'Wenwu Zhu', 'url': 'https://scholar.google.com/citations?hl=en&user=7t2jzpgAAAAJ', 'aff': 'Professor, Computer Science, Tsinghua Univerisity'}, {'name': 'Zhi Wang', 'url': 'https://scholar.google.com/citations?hl=en&user=PK8BtpwAAAAJ', 'aff': 'Associate Professor, SIGS, Tsinghua University'}, {'name': 'Haiyun Luo', 'url': 'https://scholar.google.com/citations?hl=en&user=SQ6a30sAAAAJ', 'aff': 'Google'}, {'name': 'Rui Tan', 'url': 'https://scholar.google.com/citations?hl=en&user=co5MGPkAAAAJ', 'aff': 'Associate Professor, Nanyang Technological University'}, {'name': 'Jian He', 'url': 'https://scholar.google.com/citations?hl=en&user=MlbOB90AAAAJ', 'aff': 'Facebook, University of Texas at Austin'}, {'name': 'Xinwen Zhang', 'url': 'https://scholar.google.com/citations?hl=en&user=WyYnBkEAAAAJ', 'aff': 'Hiretual'}, {'name': 'Cedric Westphal', 'url': 'https://scholar.google.com/citations?hl=en&user=5WcgOxMAAAAJ', 'aff': 'Adjunct Associate Professor, UCSC; Principal Research Architect, Futurewei'}, {'name': 'Dan Kilper', 'url': 'https://scholar.google.com/citations?hl=en&user=B2fCpwIAAAAJ', 'aff': 'Trinity College Dublin'}, {'name': 'Liu Ming', 'url': 'https://scholar.google.com/citations?hl=en&user=kpZq6QwAAAAJ', 'aff': 'Professor, University of Electronic Science and Technology of China'}, {'name': 'Ping Wang', 'url': 'https://scholar.google.com/citations?hl=en&user=3sIHxrcAAAAJ', 'aff': 'York University, IEEE Fellow, York Research Chair, IEEE VTS Distinguished Lecturer'}, {'name': 'Wee Peng Tay', 'url': 'https://scholar.google.com/citations?hl=en&user=BkCI7rEAAAAJ', 'aff': 'Nanyang Technological University'}, {'name': 'Ta Nguyen Binh Duong', 'url': 'https://scholar.google.com/citations?hl=en&user=akLAAuQAAAAJ', 'aff': 'Singapore Management University'}, {'name': 'Shengen Yan', 'url': 'https://scholar.google.com/citations?hl=en&user=SvE3bdUAAAAJ', 'aff': 'The Chinese University of HongKong'}, {'name': 'Miyuru Dayarathna', 'url': 'https://scholar.google.com/citations?hl=en&user=MjsvcjwAAAAJ', 'aff': 'Principal Engineer, Macrometa Corporation'}, {'name': 'Nenghai Yu', 'url': 'https://scholar.google.com/citations?hl=en&user=7620QAMAAAAJ', 'aff': 'University of Science and Technology of China'}, {'name': 'Hao Zhang', 'url': 'https://scholar.google.com/citations?hl=en&user=MDk5BjIAAAAJ', 'aff': '哈尔滨工业大学'}, {'name': 'Yew Wah Wong', 'url': 'https://scholar.google.com/citations?hl=en&user=XgeooIgAAAAJ', 'aff': 'Nanyang Technological University'}, {'name': 'Chang Wen Chen', 'url': 'https://scholar.google.com/citations?hl=en&user=w2HXPUUAAAAJ', 'aff': 'Chair Professor of Visual Computing, The Hong Kong Polytechnic University'}, {'name': 'Xiaoqing Zhu', 'url': 'https://scholar.google.com/citations?hl=en&user=DfXFgksAAAAJ', 'aff': 'Netflix'}, {'name': 'Richang Hong', 'url': 'https://scholar.google.com/citations?hl=en&user=-ReoUxUAAAAJ', 'aff': 'Hefei University of Technology'}, {'name': 'Guoqiang Hu', 'url': 'https://scholar.google.com/citations?hl=en&user=Iiq2HKYAAAAJ', 'aff': 'Professor, Nanyang Technological University, Singapore'}, {'name': 'Yanhua Li', 'url': 'https://scholar.google.com/citations?hl=en&user=ICOWtt0AAAAJ', 'aff': 'Associate Professor at Worcester Polytechnic Institute'}, {'name': 'Shuicheng Yan, Fellow of AAAI, ACM, SAEng, IEEE, IAPR', 'url': 'https://scholar.google.com/citations?hl=en&user=DNuiPHwAAAAJ', 'aff': 'Kunlun 2050 Research & Skywork AI, previously Sea AI Lab'}, {'name': 'Victor CM Leung', 'url': 'https://scholar.google.com/citations?hl=en&user=ajvCoo4AAAAJ', 'aff': 'Shenzhen University / The University of British Columbia'}, {'name': 'Lian-Kuan Chen', 'url': 'https://scholar.google.com/citations?hl=en&user=0gxC-bcAAAAJ', 'aff': 'Department of Information Engineering, The Chinese University of Hong Kong'}, {'name': 'Guihai Chen', 'url': 'https://scholar.google.com/citations?hl=en&user=rqZWbYgAAAAJ', 'aff': 'Professor of Computer Science'}, {'name': 'Jiannong Cao', 'url': 'https://scholar.google.com/citations?hl=en&user=q2jH-3sAAAAJ', 'aff': 'IEEE Fellow; Chair Professor, Hong Kong Polytechnic University'}, {'name': 'Jianwei Huang (黄建伟)', 'url': 'https://scholar.google.com/citations?hl=en&user=QQq52JcAAAAJ', 'aff': 'Presidential Chair Professor and Associate Vice President, CUHK Shenzhen; IEEE TNSE\\xa0…'}, {'name': 'Zhi-Li Zhang', 'url': 'https://scholar.google.com/citations?hl=en&user=2X6fAZgAAAAJ', 'aff': 'Distinguished McKnight University Professor and Qwest Chair Professor'}, {'name': 'Ashish Khisti', 'url': 'https://scholar.google.com/citations?hl=en&user=jiGeAg4AAAAJ', 'aff': 'Professor, University of Toronto'}, {'name': 'Nicholas JA Harvey', 'url': 'https://scholar.google.com/citations?hl=en&user=xdTtK9IAAAAJ', 'aff': 'Professor of Computer Science, University of British Columbia'}, {'name': 'Sergey Yekhanin', 'url': 'https://scholar.google.com/citations?hl=en&user=4WEQ8h0AAAAJ', 'aff': 'Microsoft'}, {'name': 'Hai Jin', 'url': 'https://scholar.google.com/citations?hl=en&user=o02W0aEAAAAJ', 'aff': 'Huazhong University of Science and Technology'}, {'name': 'Khin Mi Mi Aung', 'url': 'https://scholar.google.com/citations?hl=en&user=mrjfgDEAAAAJ', 'aff': 'Research Scientist, A*STAR, I2R, Singapore'}, {'name': 'Xiaojun Hei', 'url': 'https://scholar.google.com/citations?hl=en&user=x9vhdoIAAAAJ', 'aff': 'School of Electronic Information and Communications, Huazhong University of Science and\\xa0…'}, {'name': 'Shengli Zhou', 'url': 'https://scholar.google.com/citations?hl=en&user=02qN_-YAAAAJ', 'aff': 'Professor of Electrical and Computer Engineering, University of Connecticut'}, {'name': 'Honggang Wang, Professor, Department Chair and IEEE Fellow, AAIA Fellow', 'url': 'https://scholar.google.com/citations?hl=en&user=CJiNcbAAAAAJ', 'aff': 'Department of Graduate Computer Science and Engineering, Katz School of Science and\\xa0…'}, {'name': 'Yap-Peng TAN', 'url': 'https://scholar.google.com/citations?hl=en&user=t9EqYQIAAAAJ', 'aff': 'Nanyang Technological University'}, {'name': 'Ben Leong', 'url': 'https://scholar.google.com/citations?hl=en&user=kLMAXGgAAAAJ', 'aff': 'Associate Professor of Computer Science, National University of Singapore'}, {'name': 'Tracey Ho', 'url': 'https://scholar.google.com/citations?hl=en&user=bI2zeOUAAAAJ', 'aff': 'Assistant Professor of Electrical Engineering and Computer Science, Caltech'}, {'name': 'Keang-Po Ho', 'url': 'https://scholar.google.com/citations?hl=en&user=QTeTmbUAAAAJ', 'aff': 'SiBEAM'}, {'name': 'Sun Peng (孙鹏)', 'url': 'https://scholar.google.com/citations?hl=en&user=NXDhhAoAAAAJ', 'aff': 'SenseTime and Shanghai AI Lab'}, {'name': 'Xiaoou Tang', 'url': 'https://scholar.google.com/citations?hl=en&user=qpBtpGsAAAAJ', 'aff': 'The Chinese University of Hong Kong'}, {'name': 'Zhenzhong Chen', 'url': 'https://scholar.google.com/citations?hl=en&user=w_BcpK8AAAAJ', 'aff': 'Wuhan University'}, {'name': 'Yichao Jin', 'url': 'https://scholar.google.com/citations?hl=en&user=P74WJTMAAAAJ', 'aff': ''}]\n"
     ]
    }
   ],
   "source": [
    "response = classify_collaborators_affiliation(author['co_authors_url'])"
   ]
  },
  {
   "cell_type": "code",
   "execution_count": 208,
   "metadata": {},
   "outputs": [
    {
     "name": "stdout",
     "output_type": "stream",
     "text": [
      "Here is the list of labels indicating whether each collaborator is affiliated with an educational institution or not:\n",
      "\n",
      "[True, True, True, False, True, True, True, True, True, True, True, False, True, True, True, True, False, True, True, False, False, True, False, True, True, True, True, True, True, True, True, True, True, True, True, True, True, True, True, True, True, True, True, True, True, True, True, True, True, True, True, True, True, True, True, True, True, True, True, True, True, True, True, True, True, True, True, True, True, True, True, True, True, True, True, True, True, True, True, True, True, True, True, True, True, True, True, True, True, True, True, True, True, True, True, True, True, True, True, True, True, True, True, True, True, True, True, True, True, True, True, True, True, True, True, True, True, True, True, True, True, True, True, True, True, True, True, True, True, True, True, True, True, True, True, True, True, True, True, True, True, True, True, True, True, True, True, True, True, True, True, True, True, True, True, True, True, True, True, True, True, True, True, True, True, True, True, True, True, True, True, True, True, True, True, True, True, True, True, True, True, True, True, True, True, True, True, True, True, True, True, True, True, True, True, True, True, True, True, True, True, True, True, True, True, True, True, True, True, True, True, True, True, True, True, True, True, True, True, True, True, True, True, True, True, True, True, True, True, True, True, True, True, True, True, True, True, True, True, True, True, True, True, True, True, True, True, True, True, True, True, True, True, True, True, True, True, True, True, True, True, True, True, True, True, True, True, True, True, True, True, True, True, True, True, True, True, True, True, True, True, True, True, True, True, True, True, True, True, True, True, True, True, True, True, True, True, True, True, True, True, True, True, True, True, True, True, True, True, True, True, True, True, True, True, True, True, True, True, True, True, True, True, True, True, True, True, True, True, True, True, True, True, True, True, True, True, True, True, True, True, True, True, True, True, True, True, True, True, True, True, True, True, True, True, True, True, True, True, True, True, True, True, True, True, True, True, True, True, True, True, True, True, True, True, True, True, True, True, True, True, True, True, True, True, True, True, True, True, True, True, True, True, True, True, True, True, True, True, True, True, True, True, True, True, True, True, True, True, True, True, True, True, True, True, True, True, True, True, True, True, True, True, True, True, True, True, True, True, True, True, True, True, True, True, True, True, True, True, True, True, True, True, True, True, True, True, True, True, True, True, True, True, True, True, True, True, True, True, True, True, True, True, True, True, True, True, True, True, True, True, True, True, True, True, True, True, True, True, True, True, True, True, True, True, True, True, True, True, True, True, True, True, True, True, True, True, True, True, True, True, True, True, True, True, True, True, True, True, True, True, True, True, True, True, True, True, True, True, True, True, True, True, True, True, True\n"
     ]
    }
   ],
   "source": [
    "print(response)"
   ]
  },
  {
   "cell_type": "code",
   "execution_count": 163,
   "metadata": {},
   "outputs": [],
   "source": [
    "import re"
   ]
  },
  {
   "cell_type": "code",
   "execution_count": 184,
   "metadata": {},
   "outputs": [
    {
     "data": {
      "text/plain": [
       "59"
      ]
     },
     "execution_count": 184,
     "metadata": {},
     "output_type": "execute_result"
    }
   ],
   "source": [
    "len(author['co_authors_url'])"
   ]
  },
  {
   "cell_type": "code",
   "execution_count": 181,
   "metadata": {},
   "outputs": [
    {
     "ename": "TypeError",
     "evalue": "'NoneType' object is not subscriptable",
     "output_type": "error",
     "traceback": [
      "\u001b[0;31m---------------------------------------------------------------------------\u001b[0m",
      "\u001b[0;31mTypeError\u001b[0m                                 Traceback (most recent call last)",
      "\u001b[1;32m/Users/siuu/Desktop/CZ4125/Assignment 2/llm.ipynb Cell 19\u001b[0m line \u001b[0;36m1\n\u001b[0;32m----> <a href='vscode-notebook-cell:/Users/siuu/Desktop/CZ4125/Assignment%202/llm.ipynb#X66sZmlsZQ%3D%3D?line=0'>1</a>\u001b[0m ast\u001b[39m.\u001b[39mliteral_eval(re\u001b[39m.\u001b[39;49msearch(\u001b[39mr\u001b[39;49m\u001b[39m\"\u001b[39;49m\u001b[39m\\\u001b[39;49m\u001b[39m[.*\u001b[39;49m\u001b[39m\\\u001b[39;49m\u001b[39m]\u001b[39;49m\u001b[39m\"\u001b[39;49m,response)[\u001b[39m0\u001b[39;49m])\n",
      "\u001b[0;31mTypeError\u001b[0m: 'NoneType' object is not subscriptable"
     ]
    }
   ],
   "source": [
    "ast.literal_eval(re.search(r\"\\[.*\\]\",response)[0])"
   ]
  },
  {
   "cell_type": "code",
   "execution_count": 147,
   "metadata": {},
   "outputs": [
    {
     "data": {
      "text/plain": [
       "\"[{'name': 'Dacheng Tao', 'url': 'https://scholar.google.com/citations?hl=en&user=RwlJNLcAAAAJ', 'aff': 'The University of Sydney', 'is_school': 'True'}, {'name': 'Yong Luo', 'url': 'https://scholar.google.com/citations?hl=en&user=zb1oVGIAAAAJ', 'aff': 'Wuha... 'aff': 'Assistant Professor, Singapore Institute of Technology (SIT)', 'is_school': 'False'}, {'name': 'Di Wu', 'url': 'https://scholar.google.com/citations?hl=en&user=guhA4VoAAAAJ', 'aff': 'Professor of Computer Science, Sun Yat-Sen University', 'is_school': 'True'}]\""
      ]
     },
     "execution_count": 147,
     "metadata": {},
     "output_type": "execute_result"
    }
   ],
   "source": [
    "result[0]"
   ]
  },
  {
   "cell_type": "code",
   "execution_count": null,
   "metadata": {},
   "outputs": [],
   "source": []
  },
  {
   "cell_type": "code",
   "execution_count": null,
   "metadata": {},
   "outputs": [],
   "source": []
  },
  {
   "cell_type": "code",
   "execution_count": 5,
   "metadata": {},
   "outputs": [
    {
     "name": "stdout",
     "output_type": "stream",
     "text": [
      "graph.html\n"
     ]
    },
    {
     "ename": "TypeError",
     "evalue": "'IFrame' object is not subscriptable",
     "output_type": "error",
     "traceback": [
      "\u001b[0;31m---------------------------------------------------------------------------\u001b[0m",
      "\u001b[0;31mTypeError\u001b[0m                                 Traceback (most recent call last)",
      "\u001b[1;32m/Users/siuu/Desktop/CZ4125/Assignment 2/llm.ipynb Cell 9\u001b[0m line \u001b[0;36m4\n\u001b[1;32m     <a href='vscode-notebook-cell:/Users/siuu/Desktop/CZ4125/Assignment%202/llm.ipynb#X12sZmlsZQ%3D%3D?line=37'>38</a>\u001b[0m \u001b[39m# Save the graph as an HTML file and display it in the Jupyter notebook\u001b[39;00m\n\u001b[1;32m     <a href='vscode-notebook-cell:/Users/siuu/Desktop/CZ4125/Assignment%202/llm.ipynb#X12sZmlsZQ%3D%3D?line=38'>39</a>\u001b[0m html \u001b[39m=\u001b[39m net\u001b[39m.\u001b[39mshow(\u001b[39m\"\u001b[39m\u001b[39mgraph.html\u001b[39m\u001b[39m\"\u001b[39m)\n\u001b[0;32m---> <a href='vscode-notebook-cell:/Users/siuu/Desktop/CZ4125/Assignment%202/llm.ipynb#X12sZmlsZQ%3D%3D?line=39'>40</a>\u001b[0m display(HTML(html))\n\u001b[1;32m     <a href='vscode-notebook-cell:/Users/siuu/Desktop/CZ4125/Assignment%202/llm.ipynb#X12sZmlsZQ%3D%3D?line=41'>42</a>\u001b[0m \u001b[39m# Display the HTML file in the Streamlit app\u001b[39;00m\n\u001b[1;32m     <a href='vscode-notebook-cell:/Users/siuu/Desktop/CZ4125/Assignment%202/llm.ipynb#X12sZmlsZQ%3D%3D?line=42'>43</a>\u001b[0m \u001b[39m# with open('graph.html', 'r') as f:\u001b[39;00m\n\u001b[1;32m     <a href='vscode-notebook-cell:/Users/siuu/Desktop/CZ4125/Assignment%202/llm.ipynb#X12sZmlsZQ%3D%3D?line=43'>44</a>\u001b[0m \u001b[39m#     components.html(f.read(), height=800)\u001b[39;00m\n",
      "File \u001b[0;32m/opt/anaconda3/envs/CZ4125/lib/python3.9/site-packages/IPython/core/display.py:430\u001b[0m, in \u001b[0;36mHTML.__init__\u001b[0;34m(self, data, url, filename, metadata)\u001b[0m\n\u001b[1;32m    427\u001b[0m     suffix \u001b[39m=\u001b[39m data[\u001b[39m-\u001b[39m\u001b[39m10\u001b[39m:]\u001b[39m.\u001b[39mlower()\n\u001b[1;32m    428\u001b[0m     \u001b[39mreturn\u001b[39;00m prefix\u001b[39m.\u001b[39mstartswith(\u001b[39m\"\u001b[39m\u001b[39m<iframe \u001b[39m\u001b[39m\"\u001b[39m) \u001b[39mand\u001b[39;00m suffix\u001b[39m.\u001b[39mendswith(\u001b[39m\"\u001b[39m\u001b[39m</iframe>\u001b[39m\u001b[39m\"\u001b[39m)\n\u001b[0;32m--> 430\u001b[0m \u001b[39mif\u001b[39;00m warn():\n\u001b[1;32m    431\u001b[0m     warnings\u001b[39m.\u001b[39mwarn(\u001b[39m\"\u001b[39m\u001b[39mConsider using IPython.display.IFrame instead\u001b[39m\u001b[39m\"\u001b[39m)\n\u001b[1;32m    432\u001b[0m \u001b[39msuper\u001b[39m(HTML, \u001b[39mself\u001b[39m)\u001b[39m.\u001b[39m\u001b[39m__init__\u001b[39m(data\u001b[39m=\u001b[39mdata, url\u001b[39m=\u001b[39murl, filename\u001b[39m=\u001b[39mfilename, metadata\u001b[39m=\u001b[39mmetadata)\n",
      "File \u001b[0;32m/opt/anaconda3/envs/CZ4125/lib/python3.9/site-packages/IPython/core/display.py:426\u001b[0m, in \u001b[0;36mHTML.__init__.<locals>.warn\u001b[0;34m()\u001b[0m\n\u001b[1;32m    420\u001b[0m     \u001b[39mreturn\u001b[39;00m \u001b[39mFalse\u001b[39;00m\n\u001b[1;32m    422\u001b[0m \u001b[39m#\u001b[39;00m\n\u001b[1;32m    423\u001b[0m \u001b[39m# Avoid calling lower() on the entire data, because it could be a\u001b[39;00m\n\u001b[1;32m    424\u001b[0m \u001b[39m# long string and we're only interested in its beginning and end.\u001b[39;00m\n\u001b[1;32m    425\u001b[0m \u001b[39m#\u001b[39;00m\n\u001b[0;32m--> 426\u001b[0m prefix \u001b[39m=\u001b[39m data[:\u001b[39m10\u001b[39;49m]\u001b[39m.\u001b[39mlower()\n\u001b[1;32m    427\u001b[0m suffix \u001b[39m=\u001b[39m data[\u001b[39m-\u001b[39m\u001b[39m10\u001b[39m:]\u001b[39m.\u001b[39mlower()\n\u001b[1;32m    428\u001b[0m \u001b[39mreturn\u001b[39;00m prefix\u001b[39m.\u001b[39mstartswith(\u001b[39m\"\u001b[39m\u001b[39m<iframe \u001b[39m\u001b[39m\"\u001b[39m) \u001b[39mand\u001b[39;00m suffix\u001b[39m.\u001b[39mendswith(\u001b[39m\"\u001b[39m\u001b[39m</iframe>\u001b[39m\u001b[39m\"\u001b[39m)\n",
      "\u001b[0;31mTypeError\u001b[0m: 'IFrame' object is not subscriptable"
     ]
    }
   ],
   "source": [
    "import streamlit as st\n",
    "import streamlit.components.v1 as components\n",
    "\n",
    "\n",
    "# Assuming data is in the following format\n",
    "data = {\n",
    "    \"Author\": [\"Co-author_1\", \"Co-author_2\"],\n",
    "    \"Co-author_1\": [\"Co-author_2\", \"Co-author_3\"],\n",
    "    \"Co-author_2\": [\"Co-author_3\"],\n",
    "    \"Co-author_3\": []\n",
    "}\n",
    "\n",
    "def create_graph_for_author(author, data):\n",
    "    net = Network(notebook=True,cdn_resources='in_line')\n",
    "    edges = set()\n",
    "\n",
    "    # Add nodes\n",
    "    for a in data.keys():\n",
    "        net.add_node(a)\n",
    "\n",
    "    # Add edges for direct collaborations\n",
    "    for co_author in data[author]:\n",
    "        net.add_edge(author, co_author)\n",
    "        edges.add((author, co_author))\n",
    "\n",
    "    # Add connections between co-authors who have collaborated with each other before\n",
    "    for co_author in data[author]:\n",
    "        if co_author in data:\n",
    "            for co_co_author in data[co_author]:\n",
    "                if co_co_author != author and co_co_author in data[author] and (co_co_author, co_author) not in edges:\n",
    "                    net.add_edge(co_author, co_co_author)\n",
    "                    edges.add((co_author, co_co_author))\n",
    "    return net\n",
    "\n",
    "net = create_graph_for_author(\"Author\", data)\n",
    "\n",
    "# Save the graph as an HTML file and display it in the Jupyter notebook\n",
    "net.show(\"graph.html\")\n",
    "\n",
    "# Display the HTML file in the Streamlit app\n",
    "# with open('graph.html', 'r') as f:\n",
    "#     components.html(f.read(), height=800)"
   ]
  },
  {
   "cell_type": "code",
   "execution_count": null,
   "metadata": {},
   "outputs": [],
   "source": [
    "import streamlit as st\n",
    "import pandas as pd\n",
    "\n",
    "# Sample data\n",
    "data = {\n",
    "    'Name': ['Person 1', 'Person 2', 'Person 3', 'Person 4'],\n",
    "    'Research Interest': ['Machine Learning, Computer Vision', 'Machine Learning', 'Computer Vision', 'NLP'],\n",
    "}\n",
    "\n",
    "df = pd.DataFrame(data)\n",
    "\n",
    "# Streamlit app\n",
    "st.title(\"Filter Table by Research Interests\")\n",
    "\n",
    "# Create a list of unique research interests from the DataFrame\n",
    "research_interests = df['Research Interest'].str.split(', ').explode().unique()\n",
    "\n",
    "# Multiselect filter for research interests\n",
    "selected_interests = st.multiselect(\"Filter by Research Interests\", research_interests)\n",
    "\n",
    "# Filter the DataFrame based on the selected interests\n",
    "filtered_df = df[df['Research Interest'].str.split(', ').apply(lambda x: any(item in selected_interests for item in x))]\n",
    "\n",
    "# Display the filtered DataFrame\n",
    "st.dataframe(filtered_df)\n"
   ]
  }
 ],
 "metadata": {
  "kernelspec": {
   "display_name": "CZ4125",
   "language": "python",
   "name": "python3"
  },
  "language_info": {
   "codemirror_mode": {
    "name": "ipython",
    "version": 3
   },
   "file_extension": ".py",
   "mimetype": "text/x-python",
   "name": "python",
   "nbconvert_exporter": "python",
   "pygments_lexer": "ipython3",
   "version": "3.9.17"
  }
 },
 "nbformat": 4,
 "nbformat_minor": 2
}
